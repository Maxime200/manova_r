{
 "cells": [
  {
   "cell_type": "markdown",
   "id": "edddc0b5",
   "metadata": {},
   "source": [
    "# ADF\n",
    "\n",
    "------\n",
    "\n",
    "Dans ce projet nous avons réalisé une fonction AFD (analyse factorielle discriminante) permettant d'analyser les relations entre les différentes variables d'une dataframe et d'essayer de prédire leur classe.\n",
    "\n",
    "Nous commençons par définir les différentes librairies nécessaires au fonctionnement du code (notamment la matrice de confusion), nous utilisons aussi la librairie MASS qui nous permettra de comparer notre modèle avec une fonction de référence : la fonction LDA.\n"
   ]
  },
  {
   "cell_type": "code",
   "execution_count": 1,
   "id": "7bfbc8e4",
   "metadata": {},
   "outputs": [
    {
     "name": "stderr",
     "output_type": "stream",
     "text": [
      "Registered S3 methods overwritten by 'ggplot2':\n",
      "  method         from \n",
      "  [.quosures     rlang\n",
      "  c.quosures     rlang\n",
      "  print.quosures rlang\n",
      "Loading required package: lattice\n"
     ]
    }
   ],
   "source": [
    "library(ggplot2)\n",
    "library(e1071)\n",
    "library(caret)\n",
    "library(MASS)"
   ]
  },
  {
   "cell_type": "markdown",
   "id": "dcecf57d",
   "metadata": {},
   "source": [
    "Nous créons ici la première dataframe qui nous servira de référence vis à vis des résultats attendu dans l'énoncé. Cette dataframe contient 4 variables (prédicteurs) et une variable de classement (catégorielle à 3 classes)."
   ]
  },
  {
   "cell_type": "code",
   "execution_count": 2,
   "id": "a2724137",
   "metadata": {},
   "outputs": [
    {
     "data": {
      "text/html": [
       "<table>\n",
       "<thead><tr><th scope=col>Quantity</th><th scope=col>TP</th><th scope=col>Sun</th><th scope=col>Heat</th><th scope=col>Rain</th></tr></thead>\n",
       "<tbody>\n",
       "\t<tr><td>medium</td><td>3064  </td><td>1201  </td><td>10    </td><td>361   </td></tr>\n",
       "\t<tr><td>bad   </td><td>3000  </td><td>1053  </td><td>11    </td><td>338   </td></tr>\n",
       "\t<tr><td>medium</td><td>3155  </td><td>1133  </td><td>19    </td><td>393   </td></tr>\n",
       "\t<tr><td>bad   </td><td>3085  </td><td> 970  </td><td> 4    </td><td>467   </td></tr>\n",
       "\t<tr><td>good  </td><td>3245  </td><td>1258  </td><td>36    </td><td>294   </td></tr>\n",
       "\t<tr><td>good  </td><td>3267  </td><td>1386  </td><td>35    </td><td>225   </td></tr>\n",
       "</tbody>\n",
       "</table>\n"
      ],
      "text/latex": [
       "\\begin{tabular}{r|lllll}\n",
       " Quantity & TP & Sun & Heat & Rain\\\\\n",
       "\\hline\n",
       "\t medium & 3064   & 1201   & 10     & 361   \\\\\n",
       "\t bad    & 3000   & 1053   & 11     & 338   \\\\\n",
       "\t medium & 3155   & 1133   & 19     & 393   \\\\\n",
       "\t bad    & 3085   &  970   &  4     & 467   \\\\\n",
       "\t good   & 3245   & 1258   & 36     & 294   \\\\\n",
       "\t good   & 3267   & 1386   & 35     & 225   \\\\\n",
       "\\end{tabular}\n"
      ],
      "text/markdown": [
       "\n",
       "| Quantity | TP | Sun | Heat | Rain |\n",
       "|---|---|---|---|---|\n",
       "| medium | 3064   | 1201   | 10     | 361    |\n",
       "| bad    | 3000   | 1053   | 11     | 338    |\n",
       "| medium | 3155   | 1133   | 19     | 393    |\n",
       "| bad    | 3085   |  970   |  4     | 467    |\n",
       "| good   | 3245   | 1258   | 36     | 294    |\n",
       "| good   | 3267   | 1386   | 35     | 225    |\n",
       "\n"
      ],
      "text/plain": [
       "  Quantity TP   Sun  Heat Rain\n",
       "1 medium   3064 1201 10   361 \n",
       "2 bad      3000 1053 11   338 \n",
       "3 medium   3155 1133 19   393 \n",
       "4 bad      3085  970  4   467 \n",
       "5 good     3245 1258 36   294 \n",
       "6 good     3267 1386 35   225 "
      ]
     },
     "metadata": {},
     "output_type": "display_data"
    }
   ],
   "source": [
    "Quantity <- c(\"medium\", \"bad\", \"medium\", \"bad\", \"good\", \"good\", \"bad\", \"bad\", \"bad\", \"medium\", \"good\", \"bad\", \"bad\", \"good\", \"medium\", \"medium\", \"medium\", \"bad\", \"medium\", \"good\", \"medium\", \"good\", \"medium\", \"good\", \"medium\", \"good\", \"medium\", \"bad\", \"good\", \"good\", \"bad\", \"good\", \"bad\", \"bad\")\n",
    "TP  <- c(3064, 3000, 3155, 3085, 3245, 3267, 3080, 2974, 3038, 3318, 3317, 3182, 2998, 3221, 3019, 3022, 3094, 3009, 3227, 3308, 3212, 3361, 3061, 3478, 3126, 3458, 3252, 3052, 3270, 3198, 2904, 3247, 3083, 3043)\n",
    "Sun  <- c(1201, 1053, 1133, 970, 1258, 1386, 966, 1189, 1103, 1310, 1362, 1171, 1102, 1424, 1230, 1285, 1329, 1210, 1331, 1366, 1289, 1444, 1175, 1317, 1248, 1508, 1361, 1186, 1399, 1259, 1164, 1277,1195, 1208)\n",
    "Heat  <- c(10, 11, 19, 4, 36, 35, 13, 12, 14, 29, 25, 28, 9, 21, 16, 9, 11, 15, 21, 24, 17, 25, 12, 42, 11, 43, 26, 14, 24, 20, 6, 19, 5, 14)\n",
    "Rain <- c(361, 338, 393, 467, 294, 225, 417, 488, 677, 427, 326, 326, 349, 382, 275, 303, 339, 536, 414, 282, 302, 253, 261, 259, 315, 286, 346, 443, 306, 367, 311, 375, 441, 371)\n",
    "\n",
    "VinQualite  <- data.frame(Quantity, TP, Sun, Heat, Rain)\n",
    "\n",
    "head(VinQualite)"
   ]
  },
  {
   "cell_type": "markdown",
   "id": "e6df5433",
   "metadata": {},
   "source": [
    "Cette dataframe contient 9 variables (prédicteurs) et une variable de classement (catégorielle à 6 classes). Un travail sur les données à déjà été réalisé sur la dataframe afin de transformer le fichier en csv et de supprimer les valeur nulle et aberrante."
   ]
  },
  {
   "cell_type": "code",
   "execution_count": 3,
   "id": "170088e1",
   "metadata": {},
   "outputs": [
    {
     "data": {
      "text/html": [
       "<table>\n",
       "<thead><tr><th scope=col>Class</th><th scope=col>I0</th><th scope=col>PA500</th><th scope=col>HFS</th><th scope=col>DA</th><th scope=col>Area</th><th scope=col>A.DA</th><th scope=col>Max.IP</th><th scope=col>DR</th><th scope=col>P</th></tr></thead>\n",
       "<tbody>\n",
       "\t<tr><td>car       </td><td>524.7941  </td><td>0.1874484 </td><td>0.03211406</td><td>228.8002  </td><td> 6843.598 </td><td>29.91080  </td><td>60.20488  </td><td>220.73721 </td><td>556.8283  </td></tr>\n",
       "\t<tr><td>car       </td><td>330.0000  </td><td>0.2268928 </td><td>0.26529005</td><td>121.1542  </td><td> 3163.239 </td><td>26.10920  </td><td>69.71736  </td><td> 99.08496 </td><td>400.2258  </td></tr>\n",
       "\t<tr><td>car       </td><td>551.8793  </td><td>0.2324779 </td><td>0.06352998</td><td>264.8049  </td><td>11888.392 </td><td>44.89490  </td><td>77.79330  </td><td>253.78530 </td><td>656.7694  </td></tr>\n",
       "\t<tr><td>car       </td><td>380.0000  </td><td>0.2408554 </td><td>0.28623400</td><td>137.6401  </td><td> 5402.171 </td><td>39.24852  </td><td>88.75845  </td><td>105.19857 </td><td>493.7018  </td></tr>\n",
       "\t<tr><td>car       </td><td>362.8313  </td><td>0.2007129 </td><td>0.24434610</td><td>124.9126  </td><td> 3290.462 </td><td>26.34213  </td><td>69.38939  </td><td>103.86655 </td><td>424.7965  </td></tr>\n",
       "\t<tr><td>car       </td><td>389.8730  </td><td>0.1500983 </td><td>0.09773844</td><td>118.6258  </td><td> 2475.557 </td><td>20.86862  </td><td>49.75715  </td><td>107.68616 </td><td>429.3858  </td></tr>\n",
       "</tbody>\n",
       "</table>\n"
      ],
      "text/latex": [
       "\\begin{tabular}{r|llllllllll}\n",
       " Class & I0 & PA500 & HFS & DA & Area & A.DA & Max.IP & DR & P\\\\\n",
       "\\hline\n",
       "\t car        & 524.7941   & 0.1874484  & 0.03211406 & 228.8002   &  6843.598  & 29.91080   & 60.20488   & 220.73721  & 556.8283  \\\\\n",
       "\t car        & 330.0000   & 0.2268928  & 0.26529005 & 121.1542   &  3163.239  & 26.10920   & 69.71736   &  99.08496  & 400.2258  \\\\\n",
       "\t car        & 551.8793   & 0.2324779  & 0.06352998 & 264.8049   & 11888.392  & 44.89490   & 77.79330   & 253.78530  & 656.7694  \\\\\n",
       "\t car        & 380.0000   & 0.2408554  & 0.28623400 & 137.6401   &  5402.171  & 39.24852   & 88.75845   & 105.19857  & 493.7018  \\\\\n",
       "\t car        & 362.8313   & 0.2007129  & 0.24434610 & 124.9126   &  3290.462  & 26.34213   & 69.38939   & 103.86655  & 424.7965  \\\\\n",
       "\t car        & 389.8730   & 0.1500983  & 0.09773844 & 118.6258   &  2475.557  & 20.86862   & 49.75715   & 107.68616  & 429.3858  \\\\\n",
       "\\end{tabular}\n"
      ],
      "text/markdown": [
       "\n",
       "| Class | I0 | PA500 | HFS | DA | Area | A.DA | Max.IP | DR | P |\n",
       "|---|---|---|---|---|---|---|---|---|---|\n",
       "| car        | 524.7941   | 0.1874484  | 0.03211406 | 228.8002   |  6843.598  | 29.91080   | 60.20488   | 220.73721  | 556.8283   |\n",
       "| car        | 330.0000   | 0.2268928  | 0.26529005 | 121.1542   |  3163.239  | 26.10920   | 69.71736   |  99.08496  | 400.2258   |\n",
       "| car        | 551.8793   | 0.2324779  | 0.06352998 | 264.8049   | 11888.392  | 44.89490   | 77.79330   | 253.78530  | 656.7694   |\n",
       "| car        | 380.0000   | 0.2408554  | 0.28623400 | 137.6401   |  5402.171  | 39.24852   | 88.75845   | 105.19857  | 493.7018   |\n",
       "| car        | 362.8313   | 0.2007129  | 0.24434610 | 124.9126   |  3290.462  | 26.34213   | 69.38939   | 103.86655  | 424.7965   |\n",
       "| car        | 389.8730   | 0.1500983  | 0.09773844 | 118.6258   |  2475.557  | 20.86862   | 49.75715   | 107.68616  | 429.3858   |\n",
       "\n"
      ],
      "text/plain": [
       "  Class I0       PA500     HFS        DA       Area      A.DA     Max.IP  \n",
       "1 car   524.7941 0.1874484 0.03211406 228.8002  6843.598 29.91080 60.20488\n",
       "2 car   330.0000 0.2268928 0.26529005 121.1542  3163.239 26.10920 69.71736\n",
       "3 car   551.8793 0.2324779 0.06352998 264.8049 11888.392 44.89490 77.79330\n",
       "4 car   380.0000 0.2408554 0.28623400 137.6401  5402.171 39.24852 88.75845\n",
       "5 car   362.8313 0.2007129 0.24434610 124.9126  3290.462 26.34213 69.38939\n",
       "6 car   389.8730 0.1500983 0.09773844 118.6258  2475.557 20.86862 49.75715\n",
       "  DR        P       \n",
       "1 220.73721 556.8283\n",
       "2  99.08496 400.2258\n",
       "3 253.78530 656.7694\n",
       "4 105.19857 493.7018\n",
       "5 103.86655 424.7965\n",
       "6 107.68616 429.3858"
      ]
     },
     "metadata": {},
     "output_type": "display_data"
    }
   ],
   "source": [
    "BreastTissue <- read.csv('BreastTissue.csv')\n",
    "BreastTissue <- BreastTissue[,2:11]\n",
    "\n",
    "head(BreastTissue)"
   ]
  },
  {
   "cell_type": "markdown",
   "id": "ece78678",
   "metadata": {},
   "source": [
    "La dernière dataframe contient 7 variables (prédicteurs) et une variable de classement (catégorielle à 2 classes). Un travail sur les données à déjà été réalisé sur la dataframe afin de transformer le fichier en csv et de supprimer les valeur nulle et aberrante."
   ]
  },
  {
   "cell_type": "code",
   "execution_count": 4,
   "id": "4bc3b7f1",
   "metadata": {},
   "outputs": [
    {
     "data": {
      "text/html": [
       "<table>\n",
       "<thead><tr><th scope=col>GEST</th><th scope=col>DILATE</th><th scope=col>EFFACE</th><th scope=col>AGE</th><th scope=col>STRAT</th><th scope=col>GRAVID</th><th scope=col>PARIT</th><th scope=col>PREMATURE</th></tr></thead>\n",
       "<tbody>\n",
       "\t<tr><td>31     </td><td>3      </td><td>100    </td><td>26     </td><td>3      </td><td>1      </td><td>0      </td><td>positif</td></tr>\n",
       "\t<tr><td>28     </td><td>8      </td><td>  0    </td><td>25     </td><td>3      </td><td>1      </td><td>0      </td><td>positif</td></tr>\n",
       "\t<tr><td>31     </td><td>3      </td><td>100    </td><td>28     </td><td>3      </td><td>2      </td><td>0      </td><td>positif</td></tr>\n",
       "\t<tr><td>27     </td><td>2      </td><td> 75    </td><td>27     </td><td>2      </td><td>2      </td><td>1      </td><td>positif</td></tr>\n",
       "\t<tr><td>28     </td><td>6      </td><td> 75    </td><td>17     </td><td>3      </td><td>1      </td><td>0      </td><td>positif</td></tr>\n",
       "\t<tr><td>33     </td><td>2      </td><td>100    </td><td>25     </td><td>4      </td><td>2      </td><td>0      </td><td>positif</td></tr>\n",
       "</tbody>\n",
       "</table>\n"
      ],
      "text/latex": [
       "\\begin{tabular}{r|llllllll}\n",
       " GEST & DILATE & EFFACE & AGE & STRAT & GRAVID & PARIT & PREMATURE\\\\\n",
       "\\hline\n",
       "\t 31      & 3       & 100     & 26      & 3       & 1       & 0       & positif\\\\\n",
       "\t 28      & 8       &   0     & 25      & 3       & 1       & 0       & positif\\\\\n",
       "\t 31      & 3       & 100     & 28      & 3       & 2       & 0       & positif\\\\\n",
       "\t 27      & 2       &  75     & 27      & 2       & 2       & 1       & positif\\\\\n",
       "\t 28      & 6       &  75     & 17      & 3       & 1       & 0       & positif\\\\\n",
       "\t 33      & 2       & 100     & 25      & 4       & 2       & 0       & positif\\\\\n",
       "\\end{tabular}\n"
      ],
      "text/markdown": [
       "\n",
       "| GEST | DILATE | EFFACE | AGE | STRAT | GRAVID | PARIT | PREMATURE |\n",
       "|---|---|---|---|---|---|---|---|\n",
       "| 31      | 3       | 100     | 26      | 3       | 1       | 0       | positif |\n",
       "| 28      | 8       |   0     | 25      | 3       | 1       | 0       | positif |\n",
       "| 31      | 3       | 100     | 28      | 3       | 2       | 0       | positif |\n",
       "| 27      | 2       |  75     | 27      | 2       | 2       | 1       | positif |\n",
       "| 28      | 6       |  75     | 17      | 3       | 1       | 0       | positif |\n",
       "| 33      | 2       | 100     | 25      | 4       | 2       | 0       | positif |\n",
       "\n"
      ],
      "text/plain": [
       "  GEST DILATE EFFACE AGE STRAT GRAVID PARIT PREMATURE\n",
       "1 31   3      100    26  3     1      0     positif  \n",
       "2 28   8        0    25  3     1      0     positif  \n",
       "3 31   3      100    28  3     2      0     positif  \n",
       "4 27   2       75    27  2     2      1     positif  \n",
       "5 28   6       75    17  3     1      0     positif  \n",
       "6 33   2      100    25  4     2      0     positif  "
      ]
     },
     "metadata": {},
     "output_type": "display_data"
    }
   ],
   "source": [
    "Prematures <- read.csv('prematures.csv')\n",
    "Prematures <- Prematures[,2:9]\n",
    "\n",
    "head(Prematures)"
   ]
  },
  {
   "cell_type": "markdown",
   "id": "28c0b670",
   "metadata": {},
   "source": [
    "Nous allons créer plusieurs fonctions préliminaires pour faciliter la compréhension du code :\n",
    "\n",
    "- La fonction d2 permet de calculer une partie de l’inertie Inter.\n",
    "- La fonction Pred permet quant à elle de prédire la classe d'un individus en fonction du centre de gravité de chacune de ces variables afin de voir si l'individu est cohérente dans sa classe.\n",
    "- La fonction Graffe permet juste de tracer les graffe à l'aides des axes factoriels qui seront calculés en amont"
   ]
  },
  {
   "cell_type": "code",
   "execution_count": 5,
   "id": "05a00537",
   "metadata": {},
   "outputs": [],
   "source": [
    "d2 <- function(mean, df)\n",
    "{\n",
    "    mean <- (mean-colMeans(df)) %*% t(mean-colMeans(df))\n",
    "    \n",
    "    return(mean)\n",
    "}"
   ]
  },
  {
   "cell_type": "code",
   "execution_count": 6,
   "id": "93469325",
   "metadata": {},
   "outputs": [],
   "source": [
    "Pred <- function(Axe, Gravity, K, Dim=2)\n",
    "{    \n",
    "    N <- nrow(Axe)\n",
    "    \n",
    "    ClassPred <- c()\n",
    "    \n",
    "    for (k in 1:N)\n",
    "    {\n",
    "        Dist <- c()\n",
    "        \n",
    "        for (i in 1:K)\n",
    "        {\n",
    "            d <- 0\n",
    "            \n",
    "            for (j in 2:(Dim+1))\n",
    "            {\n",
    "                d <- d+(Axe[k,j]-Gravity[i,j])**2\n",
    "            }\n",
    "            \n",
    "            d <- Re(sqrt(d))\n",
    "            \n",
    "            Dist <- append(Dist, d)\n",
    "        }\n",
    "        \n",
    "        DistMin <- min(Dist)\n",
    "    \n",
    "        Index <- which(Dist == DistMin)\n",
    "        \n",
    "        Value <- levels(Gravity[,1])[Index]\n",
    "\n",
    "        ClassPred <- append(ClassPred, Value)     \n",
    "    }\n",
    "    \n",
    "    return(ClassPred)\n",
    "}"
   ]
  },
  {
   "cell_type": "code",
   "execution_count": 7,
   "id": "4e03f804",
   "metadata": {},
   "outputs": [],
   "source": [
    "Graffe <- function(Axe, Gravity, K)\n",
    "{\n",
    "    N <- nrow(Axe)\n",
    "    \n",
    "    Axe_1 <- Axe[,2]\n",
    "    \n",
    "    Gravity_1 <- Gravity[,2]\n",
    "    \n",
    "    if (K ==2)\n",
    "    {\n",
    "        Axe_2 <- integer(N)\n",
    "        \n",
    "        Gravity_2 <- integer(K)\n",
    "        \n",
    "        ClassPred <- Pred(Axe, Gravity, K, 1) \n",
    "    }\n",
    "    else\n",
    "    {\n",
    "        Axe_2 <- Axe[,3]\n",
    "        \n",
    "        Gravity_2 <- Gravity[,3]\n",
    "        \n",
    "        ClassPred <- Pred(Axe, Gravity, K)\n",
    "     }\n",
    "    \n",
    "    Class <- Axe[,1]\n",
    "    \n",
    "    Axe <- data.frame(Class, Axe_1, Axe_2)\n",
    "    \n",
    "    ClassG <- Gravity[,1]\n",
    "    \n",
    "    Gravity <- data.frame(ClassG, Gravity_1, Gravity_2)\n",
    "    \n",
    "    gr_ind1 <- ggplot() + geom_point(data = Axe, aes(x = Axe_1, y = Axe_2, colour = Class, shape = Class)) +\n",
    "    geom_hline(yintercept = 0, size = 0.1, colour = '#CCCCCC') + geom_vline(xintercept = 0, size = 0.1,colour = '#CCCCCC')\n",
    "    \n",
    "    gr_ind2 <- ggplot() + geom_point(data = Gravity, aes( x = Gravity_1, y = Gravity_2, colour = ClassG, shape = ClassG)) +\n",
    "    geom_hline(yintercept = 0, size = 0.1, colour = '#CCCCCC') + geom_vline(xintercept = 0, size = 0.1,colour = '#CCCCCC')\n",
    "    \n",
    "    Axe <- cbind(Axe, TestClass = ifelse(ClassPred ==  Class, 'True','False') )\n",
    "\n",
    "    gr_ind3 <- ggplot() + geom_point(data = Axe, aes(x = Axe_1, y = Axe_2, colour = Class)) +\n",
    "    geom_text (data = Axe, aes(x = Axe_1, y = Axe_2, label = TestClass, colour = TestClass), hjust = 1, vjust = 0 ) +\n",
    "    geom_point(data = Gravity,  aes(x = Gravity_1, y = Gravity_2, colour = ClassG, shape =  ClassG),) + \n",
    "    geom_hline(yintercept = 0 , size = 0.1, colour = '#CCCCCC') + geom_vline(xintercept  = 0, size = 0.1,colour = '#CCCCCC')\n",
    "    \n",
    "    ret <- list(ClassPred, gr_ind1, gr_ind2, gr_ind3)\n",
    "}"
   ]
  },
  {
   "cell_type": "markdown",
   "id": "8946b9f1",
   "metadata": {},
   "source": [
    "Voici la fonction AFD qui calcule :\n",
    "\n",
    "- Les moyennes des variables par classe\n",
    "- Les covariances par classes\n",
    "- Les inerties Intra\n",
    "- Les inerties Inter\n",
    "- Les inerties Totale\n",
    "- Les matrices des vecteur propres\n",
    "- Les valeurs propres\n",
    "\n",
    "Et qui trace les graffe et les matrices de confusions pour nous permettre de visualiser les résultats et comparer les modèle."
   ]
  },
  {
   "cell_type": "code",
   "execution_count": 8,
   "id": "853ad701",
   "metadata": {},
   "outputs": [],
   "source": [
    "AFD <- function(df)\n",
    "{\n",
    "    id_num <- which(sapply(df, is.numeric))\n",
    "    \n",
    "    id_string <- which(!sapply(df, is.numeric))\n",
    "    \n",
    "    DF <- df[,id_num]\n",
    "        \n",
    "    P <- ncol(DF)\n",
    "\n",
    "    N <- nrow(DF)\n",
    "    \n",
    "    Class <- df[,id_string]\n",
    "    \n",
    "    names(df)[id_string] <- 'Class'\n",
    "\n",
    "    K <- nlevels(Class)\n",
    "    \n",
    "    n <- c()\n",
    "    \n",
    "    mean <- c()\n",
    "    \n",
    "    cov <- c()\n",
    "    \n",
    "    x <- 0\n",
    "\n",
    "    for (facteur in levels(Class))\n",
    "    {\n",
    "        x <- x+1\n",
    "        \n",
    "        n <- append(n, nrow(DF[Class == facteur,]))\n",
    "    \n",
    "        mean <- append(mean, apply(DF[Class == facteur,], 2, mean))\n",
    "    \n",
    "        cov <- append(cov, cov(DF[Class == facteur,])*((n[x]-1)/n[x]))\n",
    "    }\n",
    "    \n",
    "    IW <- 0\n",
    "    \n",
    "    for (j in 1:K)\n",
    "    {\n",
    "       IW <- IW + n[j]*cov[(1+((P**2)*(j-1))):((P**2)+((P**2)*(j-1)))]\n",
    "    }\n",
    "\n",
    "    IW <- 1/N*IW\n",
    "    IW <- matrix(data = IW, nrow = P, ncol = P)\n",
    "\n",
    "    IB <- 0\n",
    "\n",
    "    for (j in 1:K)\n",
    "    {    \n",
    "       IB <- IB + n[j]*d2(mean[(1+(P*(j-1))):(P+(P*(j-1)))], DF)\n",
    "    }\n",
    "\n",
    "    IB <- 1/N*IB\n",
    "    \n",
    "    Itot <- IW+IB\n",
    "    \n",
    "    IWp <- IW*N/(N-K)\n",
    "    \n",
    "    IBp <- IB*N/(K-1)\n",
    "\n",
    "    rapp <- IBp %*% solve(IWp)\n",
    "    \n",
    "    eigen <- eigen(rapp)\n",
    "    \n",
    "    val_prop <- Re(eigen$values[1:(K-1)])\n",
    "    \n",
    "    vec_prop <- sqrt(diag(t(eigen$vectors)%*% IW %*% eigen$vectors))\n",
    "    \n",
    "    vec_prop_norm <- Re(sweep(x = eigen$vectors, MARGIN = 2, STATS = vec_prop, FUN = \"/\"))\n",
    "    \n",
    "    I <- c()\n",
    "    \n",
    "    Ni <- c()\n",
    "    \n",
    "    Yi <- c()\n",
    "    \n",
    "    Ai <- c()\n",
    "    \n",
    "    Ei <-c()\n",
    "    \n",
    "    Pi <- c()\n",
    "    \n",
    "    for (j in 1:(K-1))\n",
    "    {\n",
    "        I <- append(I, val_prop[j]/sum(val_prop))\n",
    "        \n",
    "        Ni <- append(Ni, sqrt(val_prop[j]/(1+val_prop[j])))\n",
    "        \n",
    "        Yi <- append(Yi, val_prop[j]/(1+val_prop[j]))\n",
    "        \n",
    "        Ai <- append(Ai, 1-Ni[j]**2)\n",
    "        \n",
    "        Ei <- append(Ei, -(N-((P+K)/2)-1)*log(Ai[j]))\n",
    "        \n",
    "        Pi <- append(Pi, (1-pchisq(Ei[j], P*2)))\n",
    "    }\n",
    "    \n",
    "    Ui <- data.frame(val_prop, I, Ni, Ai, Ei, Pi)\n",
    "                   \n",
    "    Zij <- scale(DF[1:(ncol(df)-1)], center = TRUE, scale = FALSE)\n",
    "    \n",
    "    Axe <- data.frame(Class)\n",
    "\n",
    "    for (j in 1:(K-1))\n",
    "    {        \n",
    "        Axe <- cbind(Axe, Zij %*% vec_prop_norm[,j])\n",
    "    }\n",
    "  \n",
    "    Gravity <- data.frame(levels(Class))\n",
    "    \n",
    "    for (j in 1:(K-1))\n",
    "    {\n",
    "        Gravity <- cbind(Gravity, tapply(Axe[,(j+1)], Axe[,1], mean))\n",
    "    }\n",
    "    \n",
    "    gr_ind <- Graffe(Axe, Gravity, K)\n",
    "    \n",
    "    ClassPred <- gr_ind[[1]]\n",
    "    \n",
    "    gr_ind1 <- gr_ind[[2]]\n",
    "    \n",
    "    gr_ind2 <- gr_ind[[3]]\n",
    "    \n",
    "    gr_ind3 <- gr_ind[[4]]    \n",
    "    \n",
    "    ConfMatrAFD <-confusionMatrix(table(ClassPred, Class))\n",
    "    \n",
    "    Prop <- table(Class)/N\n",
    "    \n",
    "    formula <- Class~.\n",
    "    \n",
    "    LDA <- lda(formula=formula, data=df, prior=Prop, CV=TRUE)\n",
    "    \n",
    "    LDAClass <- LDA$class\n",
    "    \n",
    "    ConfMatrLDA <-confusionMatrix(table(LDAClass, Class))\n",
    "    \n",
    "    ret <- list(Ui, gr_ind1, gr_ind2, gr_ind3, ConfMatrAFD, ConfMatrLDA)\n",
    "    \n",
    "    return(ret)\n",
    "}"
   ]
  },
  {
   "cell_type": "code",
   "execution_count": 9,
   "id": "b2d1dd6f",
   "metadata": {},
   "outputs": [
    {
     "data": {
      "text/html": [
       "<ol>\n",
       "\t<li><table>\n",
       "<thead><tr><th scope=col>val_prop</th><th scope=col>I</th><th scope=col>Ni</th><th scope=col>Ai</th><th scope=col>Ei</th><th scope=col>Pi</th></tr></thead>\n",
       "<tbody>\n",
       "\t<tr><td>50.822338   </td><td>0.95945086  </td><td>0.9903047   </td><td>0.0192967   </td><td>116.46073   </td><td>0.000000e+00</td></tr>\n",
       "\t<tr><td> 2.147897   </td><td>0.04054914  </td><td>0.8260313   </td><td>0.3176724   </td><td> 33.82867   </td><td>4.363534e-05</td></tr>\n",
       "</tbody>\n",
       "</table>\n",
       "</li>\n",
       "</ol>\n"
      ],
      "text/latex": [
       "\\begin{enumerate}\n",
       "\\item \\begin{tabular}{r|llllll}\n",
       " val\\_prop & I & Ni & Ai & Ei & Pi\\\\\n",
       "\\hline\n",
       "\t 50.822338    & 0.95945086   & 0.9903047    & 0.0192967    & 116.46073    & 0.000000e+00\\\\\n",
       "\t  2.147897    & 0.04054914   & 0.8260313    & 0.3176724    &  33.82867    & 4.363534e-05\\\\\n",
       "\\end{tabular}\n",
       "\n",
       "\\end{enumerate}\n"
      ],
      "text/markdown": [
       "1. \n",
       "| val_prop | I | Ni | Ai | Ei | Pi |\n",
       "|---|---|---|---|---|---|\n",
       "| 50.822338    | 0.95945086   | 0.9903047    | 0.0192967    | 116.46073    | 0.000000e+00 |\n",
       "|  2.147897    | 0.04054914   | 0.8260313    | 0.3176724    |  33.82867    | 4.363534e-05 |\n",
       "\n",
       "\n",
       "\n",
       "\n"
      ],
      "text/plain": [
       "[[1]]\n",
       "   val_prop          I        Ni        Ai        Ei           Pi\n",
       "1 50.822338 0.95945086 0.9903047 0.0192967 116.46073 0.000000e+00\n",
       "2  2.147897 0.04054914 0.8260313 0.3176724  33.82867 4.363534e-05\n"
      ]
     },
     "metadata": {},
     "output_type": "display_data"
    }
   ],
   "source": [
    "AFD(VinQualite)[1]"
   ]
  },
  {
   "cell_type": "code",
   "execution_count": 10,
   "id": "a1e6195a",
   "metadata": {},
   "outputs": [
    {
     "data": {
      "text/plain": [
       "[[1]]\n"
      ]
     },
     "metadata": {},
     "output_type": "display_data"
    },
    {
     "data": {
      "image/png": "[encoded data removed]",
      "text/plain": [
       "plot without title"
      ]
     },
     "metadata": {},
     "output_type": "display_data"
    }
   ],
   "source": [
    "AFD(VinQualite)[2]"
   ]
  },
  {
   "cell_type": "code",
   "execution_count": 11,
   "id": "26509a81",
   "metadata": {},
   "outputs": [
    {
     "data": {
      "text/plain": [
       "[[1]]\n"
      ]
     },
     "metadata": {},
     "output_type": "display_data"
    },
    {
     "data": {
      "image/png": "[encoded data removed]",
      "text/plain": [
       "plot without title"
      ]
     },
     "metadata": {},
     "output_type": "display_data"
    }
   ],
   "source": [
    "AFD(VinQualite)[3]"
   ]
  },
  {
   "cell_type": "code",
   "execution_count": 12,
   "id": "62058d8c",
   "metadata": {},
   "outputs": [
    {
     "data": {
      "text/plain": [
       "[[1]]\n"
      ]
     },
     "metadata": {},
     "output_type": "display_data"
    },
    {
     "data": {
      "image/png": "[encoded data removed]",
      "text/plain": [
       "plot without title"
      ]
     },
     "metadata": {},
     "output_type": "display_data"
    }
   ],
   "source": [
    "AFD(VinQualite)[4]"
   ]
  },
  {
   "cell_type": "code",
   "execution_count": 13,
   "id": "a66664b2",
   "metadata": {},
   "outputs": [
    {
     "data": {
      "text/plain": [
       "[[1]]\n",
       "Confusion Matrix and Statistics\n",
       "\n",
       "         Class\n",
       "ClassPred bad good medium\n",
       "   bad     11    0      1\n",
       "   good     0   10      3\n",
       "   medium   1    1      7\n",
       "\n",
       "Overall Statistics\n",
       "                                          \n",
       "               Accuracy : 0.8235          \n",
       "                 95% CI : (0.6547, 0.9324)\n",
       "    No Information Rate : 0.3529          \n",
       "    P-Value [Acc > NIR] : 2.403e-08       \n",
       "                                          \n",
       "                  Kappa : 0.7351          \n",
       "                                          \n",
       " Mcnemar's Test P-Value : NA              \n",
       "\n",
       "Statistics by Class:\n",
       "\n",
       "                     Class: bad Class: good Class: medium\n",
       "Sensitivity              0.9167      0.9091        0.6364\n",
       "Specificity              0.9545      0.8696        0.9130\n",
       "Pos Pred Value           0.9167      0.7692        0.7778\n",
       "Neg Pred Value           0.9545      0.9524        0.8400\n",
       "Prevalence               0.3529      0.3235        0.3235\n",
       "Detection Rate           0.3235      0.2941        0.2059\n",
       "Detection Prevalence     0.3529      0.3824        0.2647\n",
       "Balanced Accuracy        0.9356      0.8893        0.7747\n"
      ]
     },
     "metadata": {},
     "output_type": "display_data"
    }
   ],
   "source": [
    "AFD(VinQualite)[5]"
   ]
  },
  {
   "cell_type": "code",
   "execution_count": 14,
   "id": "ff8d66d5",
   "metadata": {},
   "outputs": [
    {
     "data": {
      "text/plain": [
       "[[1]]\n",
       "Confusion Matrix and Statistics\n",
       "\n",
       "        Class\n",
       "LDAClass bad good medium\n",
       "  bad     10    0      1\n",
       "  good     0    7      2\n",
       "  medium   2    4      8\n",
       "\n",
       "Overall Statistics\n",
       "                                          \n",
       "               Accuracy : 0.7353          \n",
       "                 95% CI : (0.5564, 0.8712)\n",
       "    No Information Rate : 0.3529          \n",
       "    P-Value [Acc > NIR] : 6.289e-06       \n",
       "                                          \n",
       "                  Kappa : 0.6031          \n",
       "                                          \n",
       " Mcnemar's Test P-Value : NA              \n",
       "\n",
       "Statistics by Class:\n",
       "\n",
       "                     Class: bad Class: good Class: medium\n",
       "Sensitivity              0.8333      0.6364        0.7273\n",
       "Specificity              0.9545      0.9130        0.7391\n",
       "Pos Pred Value           0.9091      0.7778        0.5714\n",
       "Neg Pred Value           0.9130      0.8400        0.8500\n",
       "Prevalence               0.3529      0.3235        0.3235\n",
       "Detection Rate           0.2941      0.2059        0.2353\n",
       "Detection Prevalence     0.3235      0.2647        0.4118\n",
       "Balanced Accuracy        0.8939      0.7747        0.7332\n"
      ]
     },
     "metadata": {},
     "output_type": "display_data"
    }
   ],
   "source": [
    "AFD(VinQualite)[6]"
   ]
  },
  {
   "cell_type": "code",
   "execution_count": 15,
   "id": "e33fa0df",
   "metadata": {},
   "outputs": [
    {
     "data": {
      "text/html": [
       "<ol>\n",
       "\t<li><table>\n",
       "<thead><tr><th scope=col>val_prop</th><th scope=col>I</th><th scope=col>Ni</th><th scope=col>Ai</th><th scope=col>Ei</th><th scope=col>Pi</th></tr></thead>\n",
       "<tbody>\n",
       "\t<tr><td>221.7482507 </td><td>0.773807223 </td><td>0.9977528   </td><td>0.004489373 </td><td>467.62265   </td><td>0.000000e+00</td></tr>\n",
       "\t<tr><td> 32.9824539 </td><td>0.115094757 </td><td>0.9851767   </td><td>0.029426951 </td><td>304.98553   </td><td>0.000000e+00</td></tr>\n",
       "\t<tr><td> 29.7438081 </td><td>0.103793259 </td><td>0.9836021   </td><td>0.032526875 </td><td>296.32207   </td><td>0.000000e+00</td></tr>\n",
       "\t<tr><td>  1.6305980 </td><td>0.005690094 </td><td>0.7873108   </td><td>0.380141708 </td><td> 83.66377   </td><td>1.943283e-10</td></tr>\n",
       "\t<tr><td>  0.4627114 </td><td>0.001614666 </td><td>0.5624395   </td><td>0.683661851 </td><td> 32.89525   </td><td>1.718413e-02</td></tr>\n",
       "</tbody>\n",
       "</table>\n",
       "</li>\n",
       "</ol>\n"
      ],
      "text/latex": [
       "\\begin{enumerate}\n",
       "\\item \\begin{tabular}{r|llllll}\n",
       " val\\_prop & I & Ni & Ai & Ei & Pi\\\\\n",
       "\\hline\n",
       "\t 221.7482507  & 0.773807223  & 0.9977528    & 0.004489373  & 467.62265    & 0.000000e+00\\\\\n",
       "\t  32.9824539  & 0.115094757  & 0.9851767    & 0.029426951  & 304.98553    & 0.000000e+00\\\\\n",
       "\t  29.7438081  & 0.103793259  & 0.9836021    & 0.032526875  & 296.32207    & 0.000000e+00\\\\\n",
       "\t   1.6305980  & 0.005690094  & 0.7873108    & 0.380141708  &  83.66377    & 1.943283e-10\\\\\n",
       "\t   0.4627114  & 0.001614666  & 0.5624395    & 0.683661851  &  32.89525    & 1.718413e-02\\\\\n",
       "\\end{tabular}\n",
       "\n",
       "\\end{enumerate}\n"
      ],
      "text/markdown": [
       "1. \n",
       "| val_prop | I | Ni | Ai | Ei | Pi |\n",
       "|---|---|---|---|---|---|\n",
       "| 221.7482507  | 0.773807223  | 0.9977528    | 0.004489373  | 467.62265    | 0.000000e+00 |\n",
       "|  32.9824539  | 0.115094757  | 0.9851767    | 0.029426951  | 304.98553    | 0.000000e+00 |\n",
       "|  29.7438081  | 0.103793259  | 0.9836021    | 0.032526875  | 296.32207    | 0.000000e+00 |\n",
       "|   1.6305980  | 0.005690094  | 0.7873108    | 0.380141708  |  83.66377    | 1.943283e-10 |\n",
       "|   0.4627114  | 0.001614666  | 0.5624395    | 0.683661851  |  32.89525    | 1.718413e-02 |\n",
       "\n",
       "\n",
       "\n",
       "\n"
      ],
      "text/plain": [
       "[[1]]\n",
       "     val_prop           I        Ni          Ai        Ei           Pi\n",
       "1 221.7482507 0.773807223 0.9977528 0.004489373 467.62265 0.000000e+00\n",
       "2  32.9824539 0.115094757 0.9851767 0.029426951 304.98553 0.000000e+00\n",
       "3  29.7438081 0.103793259 0.9836021 0.032526875 296.32207 0.000000e+00\n",
       "4   1.6305980 0.005690094 0.7873108 0.380141708  83.66377 1.943283e-10\n",
       "5   0.4627114 0.001614666 0.5624395 0.683661851  32.89525 1.718413e-02\n"
      ]
     },
     "metadata": {},
     "output_type": "display_data"
    }
   ],
   "source": [
    "AFD(BreastTissue)[1]"
   ]
  },
  {
   "cell_type": "code",
   "execution_count": 16,
   "id": "25fb3f00",
   "metadata": {},
   "outputs": [
    {
     "data": {
      "text/plain": [
       "[[1]]\n"
      ]
     },
     "metadata": {},
     "output_type": "display_data"
    },
    {
     "data": {
      "image/png": "[encoded data removed]",
      "text/plain": [
       "plot without title"
      ]
     },
     "metadata": {},
     "output_type": "display_data"
    }
   ],
   "source": [
    "AFD(BreastTissue)[2]"
   ]
  },
  {
   "cell_type": "code",
   "execution_count": 17,
   "id": "5066214c",
   "metadata": {},
   "outputs": [
    {
     "data": {
      "text/plain": [
       "[[1]]\n"
      ]
     },
     "metadata": {},
     "output_type": "display_data"
    },
    {
     "data": {
      "image/png": "[encoded data removed]",
      "text/plain": [
       "plot without title"
      ]
     },
     "metadata": {},
     "output_type": "display_data"
    }
   ],
   "source": [
    "AFD(BreastTissue)[3]"
   ]
  },
  {
   "cell_type": "code",
   "execution_count": 18,
   "id": "3d516947",
   "metadata": {},
   "outputs": [
    {
     "data": {
      "text/plain": [
       "[[1]]\n"
      ]
     },
     "metadata": {},
     "output_type": "display_data"
    },
    {
     "data": {
      "image/png": "[encoded data removed]",
      "text/plain": [
       "plot without title"
      ]
     },
     "metadata": {},
     "output_type": "display_data"
    }
   ],
   "source": [
    "AFD(BreastTissue)[4]"
   ]
  },
  {
   "cell_type": "code",
   "execution_count": 19,
   "id": "b93cc523",
   "metadata": {},
   "outputs": [
    {
     "data": {
      "text/plain": [
       "[[1]]\n",
       "Confusion Matrix and Statistics\n",
       "\n",
       "         Class\n",
       "ClassPred adi car con fad gla mas\n",
       "      adi   8   6   5   0   0   0\n",
       "      car   0   6   0   0   0   1\n",
       "      con   4   1   5   0   0   0\n",
       "      fad   0   0   1   2   0   1\n",
       "      gla   0   0   2   8  14   9\n",
       "      mas   1   8   0   5   2   6\n",
       "\n",
       "Overall Statistics\n",
       "                                          \n",
       "               Accuracy : 0.4316          \n",
       "                 95% CI : (0.3303, 0.5372)\n",
       "    No Information Rate : 0.2211          \n",
       "    P-Value [Acc > NIR] : 3.836e-06       \n",
       "                                          \n",
       "                  Kappa : 0.3195          \n",
       "                                          \n",
       " Mcnemar's Test P-Value : NA              \n",
       "\n",
       "Statistics by Class:\n",
       "\n",
       "                     Class: adi Class: car Class: con Class: fad Class: gla\n",
       "Sensitivity             0.61538    0.28571    0.38462    0.13333     0.8750\n",
       "Specificity             0.86585    0.98649    0.93902    0.97500     0.7595\n",
       "Pos Pred Value          0.42105    0.85714    0.50000    0.50000     0.4242\n",
       "Neg Pred Value          0.93421    0.82955    0.90588    0.85714     0.9677\n",
       "Prevalence              0.13684    0.22105    0.13684    0.15789     0.1684\n",
       "Detection Rate          0.08421    0.06316    0.05263    0.02105     0.1474\n",
       "Detection Prevalence    0.20000    0.07368    0.10526    0.04211     0.3474\n",
       "Balanced Accuracy       0.74062    0.63610    0.66182    0.55417     0.8172\n",
       "                     Class: mas\n",
       "Sensitivity             0.35294\n",
       "Specificity             0.79487\n",
       "Pos Pred Value          0.27273\n",
       "Neg Pred Value          0.84932\n",
       "Prevalence              0.17895\n",
       "Detection Rate          0.06316\n",
       "Detection Prevalence    0.23158\n",
       "Balanced Accuracy       0.57391\n"
      ]
     },
     "metadata": {},
     "output_type": "display_data"
    }
   ],
   "source": [
    "AFD(BreastTissue)[5]"
   ]
  },
  {
   "cell_type": "code",
   "execution_count": 20,
   "id": "03091b85",
   "metadata": {},
   "outputs": [
    {
     "data": {
      "text/plain": [
       "[[1]]\n",
       "Confusion Matrix and Statistics\n",
       "\n",
       "        Class\n",
       "LDAClass adi car con fad gla mas\n",
       "     adi  11   0   1   0   0   0\n",
       "     car   1  19   0   1   1   2\n",
       "     con   1   0   9   0   0   0\n",
       "     fad   0   0   0   8   2   6\n",
       "     gla   0   0   0   3  10   5\n",
       "     mas   0   2   3   3   3   4\n",
       "\n",
       "Overall Statistics\n",
       "                                          \n",
       "               Accuracy : 0.6421          \n",
       "                 95% CI : (0.5372, 0.7379)\n",
       "    No Information Rate : 0.2211          \n",
       "    P-Value [Acc > NIR] : < 2.2e-16       \n",
       "                                          \n",
       "                  Kappa : 0.5666          \n",
       "                                          \n",
       " Mcnemar's Test P-Value : NA              \n",
       "\n",
       "Statistics by Class:\n",
       "\n",
       "                     Class: adi Class: car Class: con Class: fad Class: gla\n",
       "Sensitivity              0.8462     0.9048    0.69231    0.53333     0.6250\n",
       "Specificity              0.9878     0.9324    0.98780    0.90000     0.8987\n",
       "Pos Pred Value           0.9167     0.7917    0.90000    0.50000     0.5556\n",
       "Neg Pred Value           0.9759     0.9718    0.95294    0.91139     0.9221\n",
       "Prevalence               0.1368     0.2211    0.13684    0.15789     0.1684\n",
       "Detection Rate           0.1158     0.2000    0.09474    0.08421     0.1053\n",
       "Detection Prevalence     0.1263     0.2526    0.10526    0.16842     0.1895\n",
       "Balanced Accuracy        0.9170     0.9186    0.84006    0.71667     0.7619\n",
       "                     Class: mas\n",
       "Sensitivity             0.23529\n",
       "Specificity             0.85897\n",
       "Pos Pred Value          0.26667\n",
       "Neg Pred Value          0.83750\n",
       "Prevalence              0.17895\n",
       "Detection Rate          0.04211\n",
       "Detection Prevalence    0.15789\n",
       "Balanced Accuracy       0.54713\n"
      ]
     },
     "metadata": {},
     "output_type": "display_data"
    }
   ],
   "source": [
    "AFD(BreastTissue)[6]"
   ]
  },
  {
   "cell_type": "code",
   "execution_count": 21,
   "id": "3dbba09e",
   "metadata": {},
   "outputs": [
    {
     "data": {
      "text/html": [
       "<ol>\n",
       "\t<li><table>\n",
       "<thead><tr><th scope=col>val_prop</th><th scope=col>I</th><th scope=col>Ni</th><th scope=col>Ai</th><th scope=col>Ei</th><th scope=col>Pi</th></tr></thead>\n",
       "<tbody>\n",
       "\t<tr><td>79.14221  </td><td>1         </td><td>0.9937415 </td><td>0.01247782</td><td>1685.572  </td><td>0         </td></tr>\n",
       "</tbody>\n",
       "</table>\n",
       "</li>\n",
       "</ol>\n"
      ],
      "text/latex": [
       "\\begin{enumerate}\n",
       "\\item \\begin{tabular}{r|llllll}\n",
       " val\\_prop & I & Ni & Ai & Ei & Pi\\\\\n",
       "\\hline\n",
       "\t 79.14221   & 1          & 0.9937415  & 0.01247782 & 1685.572   & 0         \\\\\n",
       "\\end{tabular}\n",
       "\n",
       "\\end{enumerate}\n"
      ],
      "text/markdown": [
       "1. \n",
       "| val_prop | I | Ni | Ai | Ei | Pi |\n",
       "|---|---|---|---|---|---|\n",
       "| 79.14221   | 1          | 0.9937415  | 0.01247782 | 1685.572   | 0          |\n",
       "\n",
       "\n",
       "\n",
       "\n"
      ],
      "text/plain": [
       "[[1]]\n",
       "  val_prop I        Ni         Ai       Ei Pi\n",
       "1 79.14221 1 0.9937415 0.01247782 1685.572  0\n"
      ]
     },
     "metadata": {},
     "output_type": "display_data"
    }
   ],
   "source": [
    "AFD(Prematures)[1]"
   ]
  },
  {
   "cell_type": "code",
   "execution_count": 22,
   "id": "50d220d4",
   "metadata": {},
   "outputs": [
    {
     "data": {
      "text/plain": [
       "[[1]]\n"
      ]
     },
     "metadata": {},
     "output_type": "display_data"
    },
    {
     "data": {
      "image/png": "[encoded data removed]",
      "text/plain": [
       "plot without title"
      ]
     },
     "metadata": {},
     "output_type": "display_data"
    }
   ],
   "source": [
    "AFD(Prematures)[2]"
   ]
  },
  {
   "cell_type": "code",
   "execution_count": 23,
   "id": "efeec972",
   "metadata": {},
   "outputs": [
    {
     "data": {
      "text/plain": [
       "[[1]]\n"
      ]
     },
     "metadata": {},
     "output_type": "display_data"
    },
    {
     "data": {
      "image/png": "[encoded data removed]",
      "text/plain": [
       "plot without title"
      ]
     },
     "metadata": {},
     "output_type": "display_data"
    }
   ],
   "source": [
    "AFD(Prematures)[3]"
   ]
  },
  {
   "cell_type": "code",
   "execution_count": 24,
   "id": "3abbf7f3",
   "metadata": {},
   "outputs": [
    {
     "data": {
      "text/plain": [
       "[[1]]\n"
      ]
     },
     "metadata": {},
     "output_type": "display_data"
    },
    {
     "data": {
      "image/png": "[encoded data removed]",
      "text/plain": [
       "plot without title"
      ]
     },
     "metadata": {},
     "output_type": "display_data"
    }
   ],
   "source": [
    "AFD(Prematures)[4]"
   ]
  },
  {
   "cell_type": "code",
   "execution_count": 25,
   "id": "39cc0dd0",
   "metadata": {},
   "outputs": [
    {
     "data": {
      "text/plain": [
       "[[1]]\n",
       "Confusion Matrix and Statistics\n",
       "\n",
       "         Class\n",
       "ClassPred negatif positif\n",
       "  negatif      76      83\n",
       "  positif      48     183\n",
       "                                          \n",
       "               Accuracy : 0.6641          \n",
       "                 95% CI : (0.6148, 0.7109)\n",
       "    No Information Rate : 0.6821          \n",
       "    P-Value [Acc > NIR] : 0.793240        \n",
       "                                          \n",
       "                  Kappa : 0.2798          \n",
       "                                          \n",
       " Mcnemar's Test P-Value : 0.002972        \n",
       "                                          \n",
       "            Sensitivity : 0.6129          \n",
       "            Specificity : 0.6880          \n",
       "         Pos Pred Value : 0.4780          \n",
       "         Neg Pred Value : 0.7922          \n",
       "             Prevalence : 0.3179          \n",
       "         Detection Rate : 0.1949          \n",
       "   Detection Prevalence : 0.4077          \n",
       "      Balanced Accuracy : 0.6504          \n",
       "                                          \n",
       "       'Positive' Class : negatif         \n",
       "                                          \n"
      ]
     },
     "metadata": {},
     "output_type": "display_data"
    }
   ],
   "source": [
    "AFD(Prematures)[5]"
   ]
  },
  {
   "cell_type": "code",
   "execution_count": 26,
   "id": "ddae646d",
   "metadata": {},
   "outputs": [
    {
     "data": {
      "text/plain": [
       "[[1]]\n",
       "Confusion Matrix and Statistics\n",
       "\n",
       "         Class\n",
       "LDAClass  negatif positif\n",
       "  negatif      38      36\n",
       "  positif      86     230\n",
       "                                          \n",
       "               Accuracy : 0.6872          \n",
       "                 95% CI : (0.6386, 0.7329)\n",
       "    No Information Rate : 0.6821          \n",
       "    P-Value [Acc > NIR] : 0.4378          \n",
       "                                          \n",
       "                  Kappa : 0.1918          \n",
       "                                          \n",
       " Mcnemar's Test P-Value : 9.154e-06       \n",
       "                                          \n",
       "            Sensitivity : 0.30645         \n",
       "            Specificity : 0.86466         \n",
       "         Pos Pred Value : 0.51351         \n",
       "         Neg Pred Value : 0.72785         \n",
       "             Prevalence : 0.31795         \n",
       "         Detection Rate : 0.09744         \n",
       "   Detection Prevalence : 0.18974         \n",
       "      Balanced Accuracy : 0.58556         \n",
       "                                          \n",
       "       'Positive' Class : negatif         \n",
       "                                          \n"
      ]
     },
     "metadata": {},
     "output_type": "display_data"
    }
   ],
   "source": [
    "AFD(Prematures)[6]"
   ]
  }
 ],
 "metadata": {
  "kernelspec": {
   "display_name": "R",
   "language": "R",
   "name": "ir"
  },
  "language_info": {
   "codemirror_mode": "r",
   "file_extension": ".r",
   "mimetype": "text/x-r-source",
   "name": "R",
   "pygments_lexer": "r",
   "version": "3.6.1"
  }
 },
 "nbformat": 4,
 "nbformat_minor": 5
}
