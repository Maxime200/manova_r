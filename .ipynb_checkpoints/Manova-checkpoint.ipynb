{
 "cells": [
  {
   "cell_type": "code",
   "execution_count": 1,
   "id": "4c5794a3",
   "metadata": {},
   "outputs": [
    {
     "name": "stderr",
     "output_type": "stream",
     "text": [
      "Warning message:\n",
      "\"package 'rstatix' was built under R version 3.6.3\"\n",
      "Attaching package: 'rstatix'\n",
      "\n",
      "The following object is masked from 'package:stats':\n",
      "\n",
      "    filter\n",
      "\n"
     ]
    }
   ],
   "source": [
    "library(rstatix)"
   ]
  },
  {
   "cell_type": "code",
   "execution_count": 2,
   "id": "651aaf5f",
   "metadata": {},
   "outputs": [
    {
     "name": "stdout",
     "output_type": "stream",
     "text": [
      "   x1   x2   x3 fac\n",
      "1  35  3.5 2.80   1\n",
      "2  35  4.9 2.70   1\n",
      "3  40  3.0 4.38   1\n",
      "4  10  2.8 3.21   1\n",
      "5   6  2.7 2.73   1\n",
      "6  20  2.8 2.81   2\n",
      "7  35  4.6 2.88   2\n",
      "8  35 10.9 2.90   2\n",
      "9  35  8.0 3.28   2\n",
      "10 30  1.6 3.20   2\n"
     ]
    }
   ],
   "source": [
    "x1  <- c(35,35,40,10,6,20,35,35,35,30)\n",
    "x2  <- c(3.5,4.9,3,2.8,2.7,2.8,4.6,10.9,8,1.6)\n",
    "x3  <- c(2.8,2.7,4.38,3.21,2.73,2.81,2.88,2.9,3.28,3.2)\n",
    "fac <-c(1,1,1,1,1,2,2,2,2,2)\n",
    "df  <- data.frame(x1,x2,x3,fac)\n",
    "\n",
    "df$fac <- as.factor(df$fac) \n",
    "\n",
    "k <- nlevels(df$fac)\n",
    "\n",
    "n_var <- ncol(df) - 1\n",
    "\n",
    "N <- nrow(df)\n",
    "\n",
    "print(df)"
   ]
  },
  {
   "cell_type": "code",
   "execution_count": 3,
   "id": "4102b04c",
   "metadata": {},
   "outputs": [
    {
     "data": {
      "text/html": [
       "<dl class=dl-horizontal>\n",
       "\t<dt>x1</dt>\n",
       "\t\t<dd>28.1</dd>\n",
       "\t<dt>x2</dt>\n",
       "\t\t<dd>4.48</dd>\n",
       "\t<dt>x3</dt>\n",
       "\t\t<dd>3.089</dd>\n",
       "</dl>\n"
      ],
      "text/latex": [
       "\\begin{description*}\n",
       "\\item[x1] 28.1\n",
       "\\item[x2] 4.48\n",
       "\\item[x3] 3.089\n",
       "\\end{description*}\n"
      ],
      "text/markdown": [
       "x1\n",
       ":   28.1x2\n",
       ":   4.48x3\n",
       ":   3.089\n",
       "\n"
      ],
      "text/plain": [
       "    x1     x2     x3 \n",
       "28.100  4.480  3.089 "
      ]
     },
     "metadata": {},
     "output_type": "display_data"
    }
   ],
   "source": [
    "df_data = data.frame(x1,x2,x3)\n",
    "test = colMeans(df_data)\n",
    "test"
   ]
  },
  {
   "cell_type": "code",
   "execution_count": 4,
   "id": "657ccf9b",
   "metadata": {},
   "outputs": [
    {
     "data": {
      "text/html": [
       "<table>\n",
       "<thead><tr><th></th><th scope=col>x1</th><th scope=col>x2</th><th scope=col>x3</th></tr></thead>\n",
       "<tbody>\n",
       "\t<tr><th scope=row>x1</th><td>140.544444</td><td>13.9800000</td><td> 1.9412222</td></tr>\n",
       "\t<tr><th scope=row>x2</th><td> 13.980000</td><td> 8.2284444</td><td>-0.1969111</td></tr>\n",
       "\t<tr><th scope=row>x3</th><td>  1.941222</td><td>-0.1969111</td><td> 0.2501211</td></tr>\n",
       "</tbody>\n",
       "</table>\n"
      ],
      "text/latex": [
       "\\begin{tabular}{r|lll}\n",
       "  & x1 & x2 & x3\\\\\n",
       "\\hline\n",
       "\tx1 & 140.544444 & 13.9800000 &  1.9412222\\\\\n",
       "\tx2 &  13.980000 &  8.2284444 & -0.1969111\\\\\n",
       "\tx3 &   1.941222 & -0.1969111 &  0.2501211\\\\\n",
       "\\end{tabular}\n"
      ],
      "text/markdown": [
       "\n",
       "| <!--/--> | x1 | x2 | x3 |\n",
       "|---|---|---|---|\n",
       "| x1 | 140.544444 | 13.9800000 |  1.9412222 |\n",
       "| x2 |  13.980000 |  8.2284444 | -0.1969111 |\n",
       "| x3 |   1.941222 | -0.1969111 |  0.2501211 |\n",
       "\n"
      ],
      "text/plain": [
       "   x1         x2         x3        \n",
       "x1 140.544444 13.9800000  1.9412222\n",
       "x2  13.980000  8.2284444 -0.1969111\n",
       "x3   1.941222 -0.1969111  0.2501211"
      ]
     },
     "metadata": {},
     "output_type": "display_data"
    }
   ],
   "source": [
    "df_cov <- cov(df_data)\n",
    "df_cov"
   ]
  },
  {
   "cell_type": "code",
   "execution_count": 5,
   "id": "44785a8a",
   "metadata": {},
   "outputs": [
    {
     "data": {
      "text/html": [
       "<dl class=dl-horizontal>\n",
       "\t<dt>x1</dt>\n",
       "\t\t<dd>25.2</dd>\n",
       "\t<dt>x2</dt>\n",
       "\t\t<dd>3.38</dd>\n",
       "\t<dt>x3</dt>\n",
       "\t\t<dd>3.164</dd>\n",
       "</dl>\n"
      ],
      "text/latex": [
       "\\begin{description*}\n",
       "\\item[x1] 25.2\n",
       "\\item[x2] 3.38\n",
       "\\item[x3] 3.164\n",
       "\\end{description*}\n"
      ],
      "text/markdown": [
       "x1\n",
       ":   25.2x2\n",
       ":   3.38x3\n",
       ":   3.164\n",
       "\n"
      ],
      "text/plain": [
       "    x1     x2     x3 \n",
       "25.200  3.380  3.164 "
      ]
     },
     "metadata": {},
     "output_type": "display_data"
    }
   ],
   "source": [
    "df_g1 <- df_data[1:5,1:3]\n",
    "colMeans(df_g1)"
   ]
  },
  {
   "cell_type": "code",
   "execution_count": 6,
   "id": "5ee6c272",
   "metadata": {},
   "outputs": [
    {
     "data": {
      "text/html": [
       "<dl class=dl-horizontal>\n",
       "\t<dt>x1</dt>\n",
       "\t\t<dd>31</dd>\n",
       "\t<dt>x2</dt>\n",
       "\t\t<dd>5.58</dd>\n",
       "\t<dt>x3</dt>\n",
       "\t\t<dd>3.014</dd>\n",
       "</dl>\n"
      ],
      "text/latex": [
       "\\begin{description*}\n",
       "\\item[x1] 31\n",
       "\\item[x2] 5.58\n",
       "\\item[x3] 3.014\n",
       "\\end{description*}\n"
      ],
      "text/markdown": [
       "x1\n",
       ":   31x2\n",
       ":   5.58x3\n",
       ":   3.014\n",
       "\n"
      ],
      "text/plain": [
       "    x1     x2     x3 \n",
       "31.000  5.580  3.014 "
      ]
     },
     "metadata": {},
     "output_type": "display_data"
    }
   ],
   "source": [
    "df_g2 <- df_data[6:10,1:3]\n",
    "colMeans(df_g2)"
   ]
  },
  {
   "cell_type": "code",
   "execution_count": 7,
   "id": "5766ab15",
   "metadata": {},
   "outputs": [
    {
     "data": {
      "text/html": [
       "<strong>$data</strong> = <table>\n",
       "<thead><tr><th scope=col>x1</th><th scope=col>x2</th><th scope=col>x3</th></tr></thead>\n",
       "<tbody>\n",
       "\t<tr><td>35  </td><td>3.5 </td><td>2.80</td></tr>\n",
       "\t<tr><td>35  </td><td>4.9 </td><td>2.70</td></tr>\n",
       "\t<tr><td>40  </td><td>3.0 </td><td>4.38</td></tr>\n",
       "\t<tr><td>10  </td><td>2.8 </td><td>3.21</td></tr>\n",
       "\t<tr><td> 6  </td><td>2.7 </td><td>2.73</td></tr>\n",
       "</tbody>\n",
       "</table>\n"
      ],
      "text/latex": [
       "\\textbf{\\$data} = \\begin{tabular}{r|lll}\n",
       " x1 & x2 & x3\\\\\n",
       "\\hline\n",
       "\t 35   & 3.5  & 2.80\\\\\n",
       "\t 35   & 4.9  & 2.70\\\\\n",
       "\t 40   & 3.0  & 4.38\\\\\n",
       "\t 10   & 2.8  & 3.21\\\\\n",
       "\t  6   & 2.7  & 2.73\\\\\n",
       "\\end{tabular}\n"
      ],
      "text/markdown": [
       "**$data** = \n",
       "| x1 | x2 | x3 |\n",
       "|---|---|---|\n",
       "| 35   | 3.5  | 2.80 |\n",
       "| 35   | 4.9  | 2.70 |\n",
       "| 40   | 3.0  | 4.38 |\n",
       "| 10   | 2.8  | 3.21 |\n",
       "|  6   | 2.7  | 2.73 |\n",
       "\n"
      ],
      "text/plain": [
       "$data\n",
       "  x1  x2   x3\n",
       "1 35 3.5 2.80\n",
       "2 35 4.9 2.70\n",
       "3 40 3.0 4.38\n",
       "4 10 2.8 3.21\n",
       "5  6 2.7 2.73\n"
      ]
     },
     "metadata": {},
     "output_type": "display_data"
    },
    {
     "data": {
      "text/html": [
       "<strong>$n</strong> = 5"
      ],
      "text/latex": [
       "\\textbf{\\$n} = 5"
      ],
      "text/markdown": [
       "**$n** = 5"
      ],
      "text/plain": [
       "$n\n",
       "[1] 5\n"
      ]
     },
     "metadata": {},
     "output_type": "display_data"
    },
    {
     "data": {
      "text/html": [
       "<strong>$mean</strong> = <dl class=dl-horizontal>\n",
       "\t<dt>x1</dt>\n",
       "\t\t<dd>25.2</dd>\n",
       "\t<dt>x2</dt>\n",
       "\t\t<dd>3.38</dd>\n",
       "\t<dt>x3</dt>\n",
       "\t\t<dd>3.164</dd>\n",
       "</dl>\n"
      ],
      "text/latex": [
       "\\textbf{\\$mean} = \\begin{description*}\n",
       "\\item[x1] 25.2\n",
       "\\item[x2] 3.38\n",
       "\\item[x3] 3.164\n",
       "\\end{description*}\n"
      ],
      "text/markdown": [
       "**$mean** = x1\n",
       ":   25.2x2\n",
       ":   3.38x3\n",
       ":   3.164\n",
       "\n"
      ],
      "text/plain": [
       "$mean\n",
       "    x1     x2     x3 \n",
       "25.200  3.380  3.164 \n"
      ]
     },
     "metadata": {},
     "output_type": "display_data"
    },
    {
     "data": {
      "text/html": [
       "<strong>$S2</strong> = <table>\n",
       "<thead><tr><th></th><th scope=col>x1</th><th scope=col>x2</th><th scope=col>x3</th></tr></thead>\n",
       "<tbody>\n",
       "\t<tr><th scope=row>x1</th><td>252.700 </td><td> 8.08000</td><td> 4.37900</td></tr>\n",
       "\t<tr><th scope=row>x2</th><td>  8.080 </td><td> 0.81700</td><td>-0.23565</td></tr>\n",
       "\t<tr><th scope=row>x3</th><td>  4.379 </td><td>-0.23565</td><td> 0.50423</td></tr>\n",
       "</tbody>\n",
       "</table>\n"
      ],
      "text/latex": [
       "\\textbf{\\$S2} = \\begin{tabular}{r|lll}\n",
       "  & x1 & x2 & x3\\\\\n",
       "\\hline\n",
       "\tx1 & 252.700  &  8.08000 &  4.37900\\\\\n",
       "\tx2 &   8.080  &  0.81700 & -0.23565\\\\\n",
       "\tx3 &   4.379  & -0.23565 &  0.50423\\\\\n",
       "\\end{tabular}\n"
      ],
      "text/markdown": [
       "**$S2** = \n",
       "| <!--/--> | x1 | x2 | x3 |\n",
       "|---|---|---|---|\n",
       "| x1 | 252.700  |  8.08000 |  4.37900 |\n",
       "| x2 |   8.080  |  0.81700 | -0.23565 |\n",
       "| x3 |   4.379  | -0.23565 |  0.50423 |\n",
       "\n"
      ],
      "text/plain": [
       "$S2\n",
       "        x1       x2       x3\n",
       "x1 252.700  8.08000  4.37900\n",
       "x2   8.080  0.81700 -0.23565\n",
       "x3   4.379 -0.23565  0.50423\n"
      ]
     },
     "metadata": {},
     "output_type": "display_data"
    }
   ],
   "source": [
    "G1 <- list(data = df_g1,n = nrow(df_g1) , mean = colMeans(df_g1), S2 = cov(df_g1))\n",
    "G1['data']\n",
    "G1['n']\n",
    "G1['mean']\n",
    "G1['S2']"
   ]
  },
  {
   "cell_type": "code",
   "execution_count": 8,
   "id": "befa28c1",
   "metadata": {},
   "outputs": [
    {
     "data": {
      "text/html": [
       "<strong>$data</strong> = <table>\n",
       "<thead><tr><th></th><th scope=col>x1</th><th scope=col>x2</th><th scope=col>x3</th></tr></thead>\n",
       "<tbody>\n",
       "\t<tr><th scope=row>6</th><td>20  </td><td> 2.8</td><td>2.81</td></tr>\n",
       "\t<tr><th scope=row>7</th><td>35  </td><td> 4.6</td><td>2.88</td></tr>\n",
       "\t<tr><th scope=row>8</th><td>35  </td><td>10.9</td><td>2.90</td></tr>\n",
       "\t<tr><th scope=row>9</th><td>35  </td><td> 8.0</td><td>3.28</td></tr>\n",
       "\t<tr><th scope=row>10</th><td>30  </td><td> 1.6</td><td>3.20</td></tr>\n",
       "</tbody>\n",
       "</table>\n"
      ],
      "text/latex": [
       "\\textbf{\\$data} = \\begin{tabular}{r|lll}\n",
       "  & x1 & x2 & x3\\\\\n",
       "\\hline\n",
       "\t6 & 20   &  2.8 & 2.81\\\\\n",
       "\t7 & 35   &  4.6 & 2.88\\\\\n",
       "\t8 & 35   & 10.9 & 2.90\\\\\n",
       "\t9 & 35   &  8.0 & 3.28\\\\\n",
       "\t10 & 30   &  1.6 & 3.20\\\\\n",
       "\\end{tabular}\n"
      ],
      "text/markdown": [
       "**$data** = \n",
       "| <!--/--> | x1 | x2 | x3 |\n",
       "|---|---|---|---|\n",
       "| 6 | 20   |  2.8 | 2.81 |\n",
       "| 7 | 35   |  4.6 | 2.88 |\n",
       "| 8 | 35   | 10.9 | 2.90 |\n",
       "| 9 | 35   |  8.0 | 3.28 |\n",
       "| 10 | 30   |  1.6 | 3.20 |\n",
       "\n"
      ],
      "text/plain": [
       "$data\n",
       "   x1   x2   x3\n",
       "6  20  2.8 2.81\n",
       "7  35  4.6 2.88\n",
       "8  35 10.9 2.90\n",
       "9  35  8.0 3.28\n",
       "10 30  1.6 3.20\n"
      ]
     },
     "metadata": {},
     "output_type": "display_data"
    },
    {
     "data": {
      "text/html": [
       "<strong>$n</strong> = 5"
      ],
      "text/latex": [
       "\\textbf{\\$n} = 5"
      ],
      "text/markdown": [
       "**$n** = 5"
      ],
      "text/plain": [
       "$n\n",
       "[1] 5\n"
      ]
     },
     "metadata": {},
     "output_type": "display_data"
    },
    {
     "data": {
      "text/html": [
       "<strong>$mean</strong> = <dl class=dl-horizontal>\n",
       "\t<dt>x1</dt>\n",
       "\t\t<dd>31</dd>\n",
       "\t<dt>x2</dt>\n",
       "\t\t<dd>5.58</dd>\n",
       "\t<dt>x3</dt>\n",
       "\t\t<dd>3.014</dd>\n",
       "</dl>\n"
      ],
      "text/latex": [
       "\\textbf{\\$mean} = \\begin{description*}\n",
       "\\item[x1] 31\n",
       "\\item[x2] 5.58\n",
       "\\item[x3] 3.014\n",
       "\\end{description*}\n"
      ],
      "text/markdown": [
       "**$mean** = x1\n",
       ":   31x2\n",
       ":   5.58x3\n",
       ":   3.014\n",
       "\n"
      ],
      "text/plain": [
       "$mean\n",
       "    x1     x2     x3 \n",
       "31.000  5.580  3.014 \n"
      ]
     },
     "metadata": {},
     "output_type": "display_data"
    },
    {
     "data": {
      "text/html": [
       "<strong>$S2</strong> = <table>\n",
       "<thead><tr><th></th><th scope=col>x1</th><th scope=col>x2</th><th scope=col>x3</th></tr></thead>\n",
       "<tbody>\n",
       "\t<tr><th scope=row>x1</th><td>42.5000 </td><td>15.40000</td><td> 0.53250</td></tr>\n",
       "\t<tr><th scope=row>x2</th><td>15.4000 </td><td>14.67200</td><td>-0.00115</td></tr>\n",
       "\t<tr><th scope=row>x3</th><td> 0.5325 </td><td>-0.00115</td><td> 0.04448</td></tr>\n",
       "</tbody>\n",
       "</table>\n"
      ],
      "text/latex": [
       "\\textbf{\\$S2} = \\begin{tabular}{r|lll}\n",
       "  & x1 & x2 & x3\\\\\n",
       "\\hline\n",
       "\tx1 & 42.5000  & 15.40000 &  0.53250\\\\\n",
       "\tx2 & 15.4000  & 14.67200 & -0.00115\\\\\n",
       "\tx3 &  0.5325  & -0.00115 &  0.04448\\\\\n",
       "\\end{tabular}\n"
      ],
      "text/markdown": [
       "**$S2** = \n",
       "| <!--/--> | x1 | x2 | x3 |\n",
       "|---|---|---|---|\n",
       "| x1 | 42.5000  | 15.40000 |  0.53250 |\n",
       "| x2 | 15.4000  | 14.67200 | -0.00115 |\n",
       "| x3 |  0.5325  | -0.00115 |  0.04448 |\n",
       "\n"
      ],
      "text/plain": [
       "$S2\n",
       "        x1       x2       x3\n",
       "x1 42.5000 15.40000  0.53250\n",
       "x2 15.4000 14.67200 -0.00115\n",
       "x3  0.5325 -0.00115  0.04448\n"
      ]
     },
     "metadata": {},
     "output_type": "display_data"
    }
   ],
   "source": [
    "G2 <- list(data = df_g2,n= nrow(df_g2), mean = colMeans(df_g2), S2 = cov(df_g2))\n",
    "G2['data']\n",
    "G2['n']\n",
    "G2['mean']\n",
    "G2['S2']"
   ]
  },
  {
   "cell_type": "code",
   "execution_count": 9,
   "id": "d08381b7",
   "metadata": {},
   "outputs": [],
   "source": [
    "L <- list(G1=G1, G2=G2)"
   ]
  },
  {
   "cell_type": "code",
   "execution_count": 10,
   "id": "6d713569",
   "metadata": {},
   "outputs": [
    {
     "data": {
      "text/html": [
       "<table>\n",
       "<thead><tr><th scope=col>statistic</th><th scope=col>p.value</th><th scope=col>parameter</th><th scope=col>method</th></tr></thead>\n",
       "<tbody>\n",
       "\t<tr><td>11.90438                                           </td><td>0.06413635                                         </td><td>6                                                  </td><td>Box's M-test for Homogeneity of Covariance Matrices</td></tr>\n",
       "</tbody>\n",
       "</table>\n"
      ],
      "text/latex": [
       "\\begin{tabular}{r|llll}\n",
       " statistic & p.value & parameter & method\\\\\n",
       "\\hline\n",
       "\t 11.90438                                            & 0.06413635                                          & 6                                                   & Box's M-test for Homogeneity of Covariance Matrices\\\\\n",
       "\\end{tabular}\n"
      ],
      "text/markdown": [
       "\n",
       "| statistic | p.value | parameter | method |\n",
       "|---|---|---|---|\n",
       "| 11.90438                                            | 0.06413635                                          | 6                                                   | Box's M-test for Homogeneity of Covariance Matrices |\n",
       "\n"
      ],
      "text/plain": [
       "  statistic p.value    parameter\n",
       "1 11.90438  0.06413635 6        \n",
       "  method                                             \n",
       "1 Box's M-test for Homogeneity of Covariance Matrices"
      ]
     },
     "metadata": {},
     "output_type": "display_data"
    },
    {
     "data": {
      "text/html": [
       "<table>\n",
       "<thead><tr><th></th><th scope=col>x1</th><th scope=col>x2</th><th scope=col>x3</th></tr></thead>\n",
       "<tbody>\n",
       "\t<tr><th scope=row>x1</th><td>181.19539 </td><td>12.2972843</td><td>3.1192305 </td></tr>\n",
       "\t<tr><th scope=row>x2</th><td> 12.29728 </td><td>10.3907428</td><td>0.1666317 </td></tr>\n",
       "\t<tr><th scope=row>x3</th><td>  3.11923 </td><td> 0.1666317</td><td>0.3579290 </td></tr>\n",
       "</tbody>\n",
       "</table>\n"
      ],
      "text/latex": [
       "\\begin{tabular}{r|lll}\n",
       "  & x1 & x2 & x3\\\\\n",
       "\\hline\n",
       "\tx1 & 181.19539  & 12.2972843 & 3.1192305 \\\\\n",
       "\tx2 &  12.29728  & 10.3907428 & 0.1666317 \\\\\n",
       "\tx3 &   3.11923  &  0.1666317 & 0.3579290 \\\\\n",
       "\\end{tabular}\n"
      ],
      "text/markdown": [
       "\n",
       "| <!--/--> | x1 | x2 | x3 |\n",
       "|---|---|---|---|\n",
       "| x1 | 181.19539  | 12.2972843 | 3.1192305  |\n",
       "| x2 |  12.29728  | 10.3907428 | 0.1666317  |\n",
       "| x3 |   3.11923  |  0.1666317 | 0.3579290  |\n",
       "\n"
      ],
      "text/plain": [
       "   x1        x2         x3       \n",
       "x1 181.19539 12.2972843 3.1192305\n",
       "x2  12.29728 10.3907428 0.1666317\n",
       "x3   3.11923  0.1666317 0.3579290"
      ]
     },
     "metadata": {},
     "output_type": "display_data"
    },
    {
     "data": {
      "text/html": [
       "<table>\n",
       "<tbody>\n",
       "\t<tr><th scope=row>x1</th><td>-5.80</td></tr>\n",
       "\t<tr><th scope=row>x2</th><td>-2.20</td></tr>\n",
       "\t<tr><th scope=row>x3</th><td> 0.15</td></tr>\n",
       "</tbody>\n",
       "</table>\n"
      ],
      "text/latex": [
       "\\begin{tabular}{r|l}\n",
       "\tx1 & -5.80\\\\\n",
       "\tx2 & -2.20\\\\\n",
       "\tx3 &  0.15\\\\\n",
       "\\end{tabular}\n"
      ],
      "text/markdown": [
       "\n",
       "| x1 | -5.80 |\n",
       "| x2 | -2.20 |\n",
       "| x3 |  0.15 |\n",
       "\n"
      ],
      "text/plain": [
       "   [,1] \n",
       "x1 -5.80\n",
       "x2 -2.20\n",
       "x3  0.15"
      ]
     },
     "metadata": {},
     "output_type": "display_data"
    },
    {
     "data": {
      "text/html": [
       "<table>\n",
       "<thead><tr><th></th><th scope=col>x1</th><th scope=col>x2</th><th scope=col>x3</th></tr></thead>\n",
       "<tbody>\n",
       "\t<tr><th scope=row>x1</th><td>0.01379726</td><td> 0.2032969</td><td> 0.8014797</td></tr>\n",
       "\t<tr><th scope=row>x2</th><td>0.20329692</td><td> 0.2405988</td><td>15.0031479</td></tr>\n",
       "\t<tr><th scope=row>x3</th><td>0.80147974</td><td>15.0031479</td><td> 6.9846251</td></tr>\n",
       "</tbody>\n",
       "</table>\n"
      ],
      "text/latex": [
       "\\begin{tabular}{r|lll}\n",
       "  & x1 & x2 & x3\\\\\n",
       "\\hline\n",
       "\tx1 & 0.01379726 &  0.2032969 &  0.8014797\\\\\n",
       "\tx2 & 0.20329692 &  0.2405988 & 15.0031479\\\\\n",
       "\tx3 & 0.80147974 & 15.0031479 &  6.9846251\\\\\n",
       "\\end{tabular}\n"
      ],
      "text/markdown": [
       "\n",
       "| <!--/--> | x1 | x2 | x3 |\n",
       "|---|---|---|---|\n",
       "| x1 | 0.01379726 |  0.2032969 |  0.8014797 |\n",
       "| x2 | 0.20329692 |  0.2405988 | 15.0031479 |\n",
       "| x3 | 0.80147974 | 15.0031479 |  6.9846251 |\n",
       "\n"
      ],
      "text/plain": [
       "   x1         x2         x3        \n",
       "x1 0.01379726  0.2032969  0.8014797\n",
       "x2 0.20329692  0.2405988 15.0031479\n",
       "x3 0.80147974 15.0031479  6.9846251"
      ]
     },
     "metadata": {},
     "output_type": "display_data"
    },
    {
     "data": {
      "text/html": [
       "<table>\n",
       "<tbody>\n",
       "\t<tr><td>-4.322723</td></tr>\n",
       "</tbody>\n",
       "</table>\n"
      ],
      "text/latex": [
       "\\begin{tabular}{l}\n",
       "\t -4.322723\\\\\n",
       "\\end{tabular}\n"
      ],
      "text/markdown": [
       "\n",
       "| -4.322723 |\n",
       "\n"
      ],
      "text/plain": [
       "     [,1]     \n",
       "[1,] -4.322723"
      ]
     },
     "metadata": {},
     "output_type": "display_data"
    }
   ],
   "source": [
    "#####3.2 Construction du test\n",
    "####3.2.1 Estimation de la variance commune\n",
    "\n",
    "### Test M de Box\n",
    "test <- box_m(df[,1:3],df$fac)\n",
    "test\n",
    "\n",
    "Upper_S_d2_P1 <- (G1$n -1)*(G1$S2^2)\n",
    "\n",
    "Upper_S_d2_P2 <- (G2$n -1)*(G2$S2^2)\n",
    "\n",
    "Under_S_d2 <- G1$n + G2$n -2\n",
    "\n",
    "S_d2 <- (Upper_S_d2_P1+Upper_S_d2_P2)/Under_S_d2\n",
    "\n",
    "S_d= sqrt(S_d2)\n",
    "S_d\n",
    "\n",
    "MatMoy <- data.matrix(G1$mean - G2$mean)\n",
    "MatMoy\n",
    "\n",
    "Midd_T2 <- 1/(((1/G1$n)+(1/G2$n))*S_d)\n",
    "Midd_T2\n",
    "\n",
    "T_2 <- t(MatMoy) %*% (Midd_T2) %*% MatMoy\n",
    "T_2"
   ]
  },
  {
   "cell_type": "code",
   "execution_count": 11,
   "id": "401043d7",
   "metadata": {},
   "outputs": [
    {
     "data": {
      "text/html": [
       "<dl class=dl-horizontal>\n",
       "\t<dt>x1</dt>\n",
       "\t\t<dd>TRUE</dd>\n",
       "\t<dt>x2</dt>\n",
       "\t\t<dd>TRUE</dd>\n",
       "\t<dt>x3</dt>\n",
       "\t\t<dd>TRUE</dd>\n",
       "</dl>\n"
      ],
      "text/latex": [
       "\\begin{description*}\n",
       "\\item[x1] TRUE\n",
       "\\item[x2] TRUE\n",
       "\\item[x3] TRUE\n",
       "\\end{description*}\n"
      ],
      "text/markdown": [
       "x1\n",
       ":   TRUEx2\n",
       ":   TRUEx3\n",
       ":   TRUE\n",
       "\n"
      ],
      "text/plain": [
       "  x1   x2   x3 \n",
       "TRUE TRUE TRUE "
      ]
     },
     "metadata": {},
     "output_type": "display_data"
    }
   ],
   "source": [
    "new_df <- select(df, x1, x2, x3)\n",
    "j <- matrix(1, nrow = 1, ncol = dim(df)[1])\n",
    "m <- colSums(1/N*j*new_df)\n",
    "\n",
    "colMeans(new_df) == m"
   ]
  }
 ],
 "metadata": {
  "kernelspec": {
   "display_name": "R",
   "language": "R",
   "name": "ir"
  },
  "language_info": {
   "codemirror_mode": "r",
   "file_extension": ".r",
   "mimetype": "text/x-r-source",
   "name": "R",
   "pygments_lexer": "r",
   "version": "3.6.1"
  }
 },
 "nbformat": 4,
 "nbformat_minor": 5
}
